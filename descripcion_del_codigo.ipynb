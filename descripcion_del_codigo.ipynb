{
 "cells": [
  {
   "cell_type": "markdown",
   "metadata": {},
   "source": [
    "## __App de pronósticos:__ ***(grrrrrraaaaww GITGITGIT)***\n",
    "\n",
    "_Por Erick Ruiz y Martín Cordón_"
   ]
  },
  {
   "cell_type": "code",
   "execution_count": null,
   "metadata": {},
   "outputs": [],
   "source": [
    "import time\n",
    "import datetime\n",
    "import datetime as dt\n",
    "import streamlit as st\n",
    "import numpy as np\n",
    "import pandas as pd\n",
    "import plotly.graph_objects as go\n",
    "\n",
    "from openpyxl import Workbook\n",
    "from operator import index\n",
    "from io import BytesIO\n",
    "from prophet import Prophet\n",
    "from prophet.plot import plot_plotly"
   ]
  },
  {
   "cell_type": "markdown",
   "metadata": {},
   "source": [
    "En el bloque anterior de código se hace la importación de las librerías que se utilizarán para correr el programa. "
   ]
  },
  {
   "cell_type": "code",
   "execution_count": null,
   "metadata": {},
   "outputs": [],
   "source": [
    "### Preliminares\n",
    "\n",
    "def date(y, m, d):\n",
    "\n",
    "    period = int(time.mktime(datetime.datetime(y, m, d, 23, 59).timetuple()))\n",
    "    return period\n",
    "\n",
    "#inicio = date(2000, 1, 1)\n",
    "hoy = int(time.mktime(datetime.datetime.now().timetuple()))"
   ]
  },
  {
   "cell_type": "markdown",
   "metadata": {},
   "source": [
    "Se define preliminarmente la variable \"hoy\". Esta variable será útil en la consulta que se realizará más adelante. \n",
    "\n",
    "Originalmente, se había definido la función date, la cual devuelve la fecha en formato _mktime_, dicho formato es el solicitado por _Yahoo Finance_ al momento de realizar consultas, sin embargo, la función se descartó pues se optó por una fecha de inicio dinámica."
   ]
  },
  {
   "cell_type": "code",
   "execution_count": null,
   "metadata": {},
   "outputs": [],
   "source": [
    "# Dashboard\n",
    "\n",
    "st.title('App de pronósticos: Martín Cordón y Erick Ruíz -grrrrrraaaaww GITGITGIT')\n",
    "\n",
    "inicio = st.date_input('Introduzca una fecha', datetime.datetime(2000, 1, 1, 23, 59))\n",
    "inicio2 = int(time.mktime(inicio.timetuple()))\n",
    "\n",
    "ticker = st.text_input('Introduzca el \"ticker\" del activo que desea analizar', \"PZZA\")\n",
    "\n",
    "interval = st.selectbox('Escoja un intervalo de tiempo', ['1d', '1wk', '1mo'])\n",
    "\n",
    "n_years = st.slider('Años de pronóstico:', 1, 4)\n",
    "\n",
    "if interval == '1d':\n",
    "\n",
    "    periodo = n_years * 365\n",
    "\n",
    "elif interval == '1wk':\n",
    "\n",
    "    periodo = n_years * 52\n",
    "\n",
    "else:\n",
    "\n",
    "    periodo = n_years * 12"
   ]
  },
  {
   "cell_type": "markdown",
   "metadata": {},
   "source": [
    "Se optó por la librería _Streamlit_ para hacer la presentación visual de los datos consultados en _Yahoo Finance_. \n",
    "\n",
    "Se define el título de la aplicación, una fecha de inicio interactiva, una caja de texto para ingresar el _ticker_ del activo a analizar, un intervalo para los datos del análisis y una cantidad de años para el pronóstico subsecuente. "
   ]
  },
  {
   "cell_type": "code",
   "execution_count": null,
   "metadata": {},
   "outputs": [],
   "source": [
    "# Query\n",
    "\n",
    "@st.cache\n",
    "def fin_data(ticker: str):\n",
    "    \n",
    "    qstr = f'https://query1.finance.yahoo.com/v7/finance/download/{ticker}?period1={inicio2}&period2={hoy}&interval={interval}&events=history&includeAdjustedClose=true'\n",
    "\n",
    "    datos = pd.read_csv(qstr)\n",
    "\n",
    "    return datos\n",
    "\n",
    "loadstate_datos = st.text('Cargando datos...')\n",
    "data = fin_data(ticker)\n",
    "loadstate_datos.text('Cargando datos... listo!!')\n",
    "\n",
    "st.subheader('Datos crudos')\n",
    "st.write(data.tail())"
   ]
  },
  {
   "cell_type": "markdown",
   "metadata": {},
   "source": [
    "Se procede a realizar un _web scrap_ sencillo a través de un _query_ dinámico en _Yahoo Finance_, a partir del _ticker_, los periodos de tiempo y el intervalo de los datos definidos en los pasos anteriores, es posible obtener la información histórica de precios de cualquier activo presente en las bolsas de valores de Estados Unidos. \n",
    "\n",
    "Desde la función principal del _query_ se procede a guardar los datos obtenidos en formato _DataFrame_ de la librería _Pandas_. Posteriormente se presenta una tabla de los últimos 5 datos obtenidos."
   ]
  },
  {
   "cell_type": "code",
   "execution_count": null,
   "metadata": {},
   "outputs": [],
   "source": [
    "@st.cache\n",
    "def xls_df(df):\n",
    "\n",
    "    output = BytesIO()\n",
    "    writer = pd.ExcelWriter(output, engine=\"xlsxwriter\")\n",
    "    df.to_excel(writer, sheet_name='Sheet1', index=False)\n",
    "    workbook = writer.book\n",
    "    worksheet = writer.sheets['Sheet1']\n",
    "    format1 = workbook.add_format({'num_format': '0.00'})\n",
    "    worksheet.set_column('A:A', None, format1)\n",
    "    writer.save()\n",
    "    processed_data = output.getvalue()\n",
    "    return processed_data\n",
    "\n",
    "xlsx = xls_df(data)\n",
    "\n",
    "st.download_button(label='Descarga los datos en formato Excel',\n",
    "                   data=xlsx,\n",
    "                   file_name=f'historical_prices_{ticker}.xlsx')"
   ]
  },
  {
   "cell_type": "markdown",
   "metadata": {},
   "source": [
    "Consideramos que una persona interesada en buscar los datos históricos de un activo financiero también estaría interesada en manipularlos por lo que se crea una función a partir de la cual, es posible transformar los datos de formato _DataFrame_ a un archivo de Excel. Se ofrece al usuario la oportunidad de descargar los datos en dicho formato a través de un botón de descarga."
   ]
  },
  {
   "cell_type": "code",
   "execution_count": null,
   "metadata": {},
   "outputs": [],
   "source": [
    "# Candelas\n",
    "\n",
    "def candle():\n",
    "\n",
    "    fig = go.Figure(data=[go.Candlestick(x=data['Date'],\n",
    "                    open=data['Open'],\n",
    "                    high=data['High'],\n",
    "                    low=data['Low'],\n",
    "                    close=data['Close'])])\n",
    "    fig.layout.update(title_text=f'Gráfico de candelas interactivo para {ticker}', xaxis_rangeslider_visible=True)\n",
    "    st.plotly_chart(fig)\n",
    "\n",
    "candle()"
   ]
  },
  {
   "cell_type": "markdown",
   "metadata": {},
   "source": [
    "Al mismo tiempo, consideramos que los usuarios podrían estar interesados en conocer inmediatamente la trayectoria de los activos de su interés, por lo que se ofrece también al usuario la posibilidad de visualizar los datos consultados en un gráfico de velas japonesas interactivo, sobre el mismo es posible hacer _zoom_ a periodos específicos en el tiempo y observar la apertura, cierre, altos y bajos para el intervalo de tiempo definido anteriormente."
   ]
  },
  {
   "cell_type": "code",
   "execution_count": null,
   "metadata": {},
   "outputs": [],
   "source": [
    "# Prophet\n",
    "\n",
    "df_train = data[['Date','Close']]\n",
    "df_train = df_train.rename(columns={\"Date\": \"ds\", \"Close\": \"y\"})\n",
    "\n",
    "m = Prophet()\n",
    "m.fit(df_train)\n",
    "future = m.make_future_dataframe(periods=periodo)\n",
    "forecast = m.predict(future)\n",
    "\n",
    "st.subheader('Datos pronosticados')\n",
    "st.write(forecast.tail())\n",
    "\n",
    "st.write(f'Pronóstico para {n_years} años')\n",
    "fig1 = plot_plotly(m, forecast)\n",
    "st.plotly_chart(fig1)\n",
    "\n",
    "st.write(\"Componentes del pronóstico\")\n",
    "fig2 = m.plot_components(forecast)\n",
    "st.write(fig2)"
   ]
  },
  {
   "cell_type": "markdown",
   "metadata": {},
   "source": [
    "Por último, es muy probable que sea del interés del usuario hacerse una idea de la trayectoria futura del activo de su interés. A través de la librería _Prophet_ de _Facebook_ se ofrece un pronóstico para la trayectoria del precio con la cantidad de años definida en el encabezado. Por restricciones de tiempo se optó por un modelo sencillo, sin embargo, una de las grandes ventajas de la librería _Prophet_ es la profunidad de calibración de los modelos que ofrece la herramienta. \n",
    "\n",
    "A los futuros usuarios de nuestra aplicación se recomienda jugar con las opciones disponibles para obtener el modelo que mejor pueda describir la trayectoria de los activos de su interés. Vale la pena mencionar que nuestra herramienta también ofrece la descomposición de la serie de tiempo en sus componentes principales y permite observar la tendencia y estacionalidad en la trayectoria del activo según los datos consultados."
   ]
  }
 ],
 "metadata": {
  "language_info": {
   "name": "python"
  },
  "orig_nbformat": 4
 },
 "nbformat": 4,
 "nbformat_minor": 2
}
