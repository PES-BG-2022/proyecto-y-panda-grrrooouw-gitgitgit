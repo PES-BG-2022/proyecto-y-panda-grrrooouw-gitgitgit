{
 "cells": [
  {
   "cell_type": "code",
   "execution_count": 18,
   "metadata": {},
   "outputs": [],
   "source": [
    "# Importación de los paquetes necesarios\n",
    "\n",
    "import time\n",
    "\n",
    "from datetime import datetime as dt\n",
    "import datetime\n"
   ]
  },
  {
   "cell_type": "code",
   "execution_count": 19,
   "metadata": {},
   "outputs": [],
   "source": [
    "import streamlit as st\n",
    "import numpy as np\n",
    "import pandas as pd\n",
    "import plotly.graph_objects as go"
   ]
  },
  {
   "cell_type": "code",
   "execution_count": 3,
   "metadata": {},
   "outputs": [],
   "source": [
    "# DATE\n",
    "\n",
    "def date(y, m, d):\n",
    "\n",
    "    period = int(time.mktime(datetime.datetime(y, m, d, 23, 59).timetuple()))\n",
    "    return period\n",
    "\n",
    "date1 = date(2020, 1, 1)\n",
    "date2 = date(2021, 12, 31)\n",
    "\n",
    "# QUERY\n",
    "\n",
    "ticker = 'AAPL'\n",
    "interval = '1mo' # 1d, 1wk\n",
    "\n",
    "def fin_data(ticker: str, date1: int, date2: int, interval: str):\n",
    "\n",
    "    qstr = f'https://query1.finance.yahoo.com/v7/finance/download/{ticker}?period1={date1}&period2={date2}&interval={interval}&events=history&includeAdjustedClose=true'\n",
    "\n",
    "    return pd.read_csv(qstr)\n",
    "\n",
    "# CANDLESTICK\n",
    "\n",
    "def candle(df):\n",
    "\n",
    "    fig = go.Figure(data=[go.Candlestick(x=df['Date'],\n",
    "                    open=df['Open'],\n",
    "                    high=df['High'],\n",
    "                    low=df['Low'],\n",
    "                    close=df['Close'])])\n",
    "\n",
    "    fig_w = go.FigureWidget(fig)\n",
    "\n",
    "    return fig_w\n",
    "\n",
    "# SAVE\n",
    "\n",
    "def save(df):\n",
    "\n",
    "    df.to_excel(f'historical_prices_{ticker}.xlsx', sheet_name=ticker, index=False)\n",
    "\n",
    "def save_mult():\n",
    "\n",
    "    writer = pd.ExcelWriter('historical_prices.xlsx')\n",
    "\n",
    "    for t in tickers:\n",
    "\n",
    "        df = fin_data(t, date1, date2, interval)\n",
    "        df.to_excel(writer, sheet_name=t, index=False)\n",
    "\n",
    "    writer.save()"
   ]
  },
  {
   "cell_type": "code",
   "execution_count": 53,
   "metadata": {},
   "outputs": [
    {
     "data": {
      "application/vnd.jupyter.widget-view+json": {
       "model_id": "4847192f345c45b9949ba5e1ad78e556",
       "version_major": 2,
       "version_minor": 0
      },
      "text/plain": [
       "FigureWidget({\n",
       "    'data': [{'close': array([ 68.339996,  63.572498,  73.449997,  79.485001,  91.199997, 106.2…"
      ]
     },
     "metadata": {},
     "output_type": "display_data"
    }
   ],
   "source": [
    "# Ejemplo AAPL\n",
    "\n",
    "df = fin_data(ticker, date1, date2, interval)\n",
    "\n",
    "tickers = ['AAPL', 'TSLA']\n",
    "\n",
    "save(df)\n",
    "save_mult()\n",
    "\n",
    "candle(df)"
   ]
  },
  {
   "cell_type": "code",
   "execution_count": 29,
   "metadata": {},
   "outputs": [
    {
     "data": {
      "text/plain": [
       "1642702452"
      ]
     },
     "execution_count": 29,
     "metadata": {},
     "output_type": "execute_result"
    }
   ],
   "source": [
    "st.title('Aplicación de pronósitocos')\n",
    "\n",
    "today = dt.now().strftime(\"%Y-%m-%d\")\n",
    "today\n",
    "\n",
    "hoy = int(time.mktime(datetime.datetime.now().timetuple()))\n",
    "hoy"
   ]
  }
 ],
 "metadata": {
  "interpreter": {
   "hash": "07ea867488a4c0f010368e6665dbb5a3afe646935df4b8f7bba12bcc39c7e285"
  },
  "kernelspec": {
   "display_name": "Python 3.9.7 64-bit ('base': conda)",
   "language": "python",
   "name": "python3"
  },
  "language_info": {
   "codemirror_mode": {
    "name": "ipython",
    "version": 3
   },
   "file_extension": ".py",
   "mimetype": "text/x-python",
   "name": "python",
   "nbconvert_exporter": "python",
   "pygments_lexer": "ipython3",
   "version": "3.9.7"
  },
  "orig_nbformat": 4
 },
 "nbformat": 4,
 "nbformat_minor": 2
}
