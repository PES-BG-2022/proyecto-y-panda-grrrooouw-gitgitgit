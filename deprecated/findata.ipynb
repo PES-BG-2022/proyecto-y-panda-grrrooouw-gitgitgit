{
 "cells": [
  {
   "cell_type": "markdown",
   "metadata": {},
   "source": [
    "# __Trabajo en sucio__ ***GITTGRRAAW***"
   ]
  },
  {
   "cell_type": "code",
   "execution_count": 1,
   "metadata": {},
   "outputs": [],
   "source": [
    "# Importación de los paquetes necesarios\n",
    "\n",
    "import time\n",
    "\n",
    "from datetime import datetime as dt\n",
    "import datetime\n"
   ]
  },
  {
   "cell_type": "code",
   "execution_count": 2,
   "metadata": {},
   "outputs": [],
   "source": [
    "import streamlit as st\n",
    "import numpy as np\n",
    "import pandas as pd\n",
    "import plotly.graph_objects as go"
   ]
  },
  {
   "cell_type": "code",
   "execution_count": 3,
   "metadata": {},
   "outputs": [],
   "source": [
    "# DATE\n",
    "\n",
    "def date(y, m, d):\n",
    "\n",
    "    period = int(time.mktime(datetime.datetime(y, m, d, 23, 59).timetuple()))\n",
    "    return period\n",
    "\n",
    "date1 = date(2020, 1, 1)\n",
    "date2 = date(2021, 12, 31)\n",
    "\n",
    "# QUERY\n",
    "\n",
    "ticker = 'AAPL'\n",
    "interval = '1mo' # 1d, 1wk\n",
    "\n",
    "def fin_data(ticker: str, date1: int, date2: int, interval: str):\n",
    "\n",
    "    qstr = f'https://query1.finance.yahoo.com/v7/finance/download/{ticker}?period1={date1}&period2={date2}&interval={interval}&events=history&includeAdjustedClose=true'\n",
    "\n",
    "    return pd.read_csv(qstr)\n",
    "\n",
    "# CANDLESTICK\n",
    "\n",
    "def candle(df):\n",
    "\n",
    "    fig = go.Figure(data=[go.Candlestick(x=df['Date'],\n",
    "                    open=df['Open'],\n",
    "                    high=df['High'],\n",
    "                    low=df['Low'],\n",
    "                    close=df['Close'])])\n",
    "\n",
    "    fig_w = go.FigureWidget(fig)\n",
    "\n",
    "    return fig_w\n",
    "\n",
    "# SAVE\n",
    "\n",
    "def save(df):\n",
    "\n",
    "    df.to_excel(f'historical_prices_{ticker}.xlsx', sheet_name=ticker, index=False)\n",
    "\n",
    "def save_mult():\n",
    "\n",
    "    writer = pd.ExcelWriter('historical_prices.xlsx')\n",
    "\n",
    "    for t in tickers:\n",
    "\n",
    "        df = fin_data(t, date1, date2, interval)\n",
    "        df.to_excel(writer, sheet_name=t, index=False)\n",
    "\n",
    "    writer.save()"
   ]
  },
  {
   "cell_type": "code",
   "execution_count": 4,
   "metadata": {},
   "outputs": [
    {
     "data": {
      "application/vnd.jupyter.widget-view+json": {
       "model_id": "d8feffb749674b3f8d59491123b4c5fc",
       "version_major": 2,
       "version_minor": 0
      },
      "text/plain": [
       "FigureWidget({\n",
       "    'data': [{'close': array([ 68.339996,  63.572498,  73.449997,  79.485001,  91.199997, 106.2…"
      ]
     },
     "metadata": {},
     "output_type": "display_data"
    }
   ],
   "source": [
    "# Ejemplo AAPL\n",
    "\n",
    "df = fin_data(ticker, date1, date2, interval)\n",
    "\n",
    "tickers = ['AAPL', 'TSLA']\n",
    "\n",
    "save(df)\n",
    "save_mult()\n",
    "\n",
    "candle(df)"
   ]
  },
  {
   "cell_type": "code",
   "execution_count": 5,
   "metadata": {},
   "outputs": [
    {
     "name": "stderr",
     "output_type": "stream",
     "text": [
      "2022-01-20 19:17:48.871 \n",
      "  \u001b[33m\u001b[1mWarning:\u001b[0m to view this Streamlit app on a browser, run it with the following\n",
      "  command:\n",
      "\n",
      "    streamlit run C:\\Users\\Erick Ruiz\\.conda\\envs\\env1\\lib\\site-packages\\ipykernel_launcher.py [ARGUMENTS]\n"
     ]
    },
    {
     "data": {
      "text/plain": [
       "1642727868"
      ]
     },
     "execution_count": 5,
     "metadata": {},
     "output_type": "execute_result"
    }
   ],
   "source": [
    "st.title('Aplicación de pronósitocos')\n",
    "\n",
    "today = dt.now().strftime(\"%Y-%m-%d\")\n",
    "today\n",
    "\n",
    "hoy = int(time.mktime(datetime.datetime.now().timetuple()))\n",
    "hoy"
   ]
  },
  {
   "cell_type": "code",
   "execution_count": null,
   "metadata": {},
   "outputs": [],
   "source": [
    "\n",
    "\n",
    "df_train = datos[['Date','Close']]\n",
    "df_train = df_train.rename(columns={\"Date\": \"ds\", \"Close\": \"y\"})\n",
    "\n",
    "m = Prophet()\n",
    "m.fit(df_train)\n",
    "future = m.make_future_dataframe(periods=periodo)\n",
    "forecast = m.predict(future)\n",
    "\n",
    "st.subheader('Datos pronosticados')\n",
    "st.write(forecast.tail())\n",
    "\n",
    "st.write(f'Proóstico para {n_years} años')\n",
    "fig1 = plot_plotly(m, forecast)\n",
    "st.plotly_chart(fig1)\n",
    "\n",
    "st.write(\"Componentes del pronóstico\")\n",
    "fig2 = m.plot_components(forecast)\n",
    "st.write(fig2)"
   ]
  }
 ],
 "metadata": {
  "interpreter": {
   "hash": "07ea867488a4c0f010368e6665dbb5a3afe646935df4b8f7bba12bcc39c7e285"
  },
  "kernelspec": {
   "display_name": "Python 3.9.7 64-bit ('base': conda)",
   "language": "python",
   "name": "python3"
  },
  "language_info": {
   "codemirror_mode": {
    "name": "ipython",
    "version": 3
   },
   "file_extension": ".py",
   "mimetype": "text/x-python",
   "name": "python",
   "nbconvert_exporter": "python",
   "pygments_lexer": "ipython3",
   "version": "3.9.7"
  },
  "orig_nbformat": 4
 },
 "nbformat": 4,
 "nbformat_minor": 2
}
